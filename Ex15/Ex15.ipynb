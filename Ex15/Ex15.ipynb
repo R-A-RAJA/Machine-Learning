{
 "cells": [
  {
   "cell_type": "code",
   "execution_count": null,
   "id": "649e05dc",
   "metadata": {},
   "outputs": [],
   "source": []
  },
  {
   "cell_type": "code",
   "execution_count": 5,
   "id": "afa714f6",
   "metadata": {},
   "outputs": [
    {
     "name": "stdout",
     "output_type": "stream",
     "text": [
      "\n",
      " KNN Accuracy: 0.9366\n",
      "\n",
      "Classification Report:\n",
      "               precision    recall  f1-score   support\n",
      "\n",
      "           0       0.95      0.92      0.94       102\n",
      "           1       0.92      0.95      0.94       103\n",
      "\n",
      "    accuracy                           0.94       205\n",
      "   macro avg       0.94      0.94      0.94       205\n",
      "weighted avg       0.94      0.94      0.94       205\n",
      "\n",
      "Confusion Matrix:\n",
      " [[94  8]\n",
      " [ 5 98]]\n"
     ]
    },
    {
     "data": {
      "image/png": "[encoded data removed]",
      "text/plain": [
       "<Figure size 1200x800 with 1 Axes>"
      ]
     },
     "metadata": {},
     "output_type": "display_data"
    }
   ],
   "source": [
    "import pandas as pd\n",
    "import numpy as np\n",
    "import matplotlib.pyplot as plt\n",
    "from sklearn.model_selection import train_test_split\n",
    "from sklearn.preprocessing import StandardScaler, LabelEncoder\n",
    "from sklearn.neighbors import KNeighborsClassifier\n",
    "from sklearn.metrics import accuracy_score, classification_report, confusion_matrix\n",
    "                                                      \n",
    "df = pd.read_excel('heartds.xlsx')\n",
    "df['target'] = df['target'].map({'Not Disease': 0, 'Disease': 1})\n",
    "df = df.dropna()\n",
    "X = df.drop(columns=['target'])\n",
    "y = df['target']\n",
    "\n",
    "X_train, X_test, y_train, y_test = train_test_split(X, y, test_size=0.2, random_state=42)\n",
    "scaler = StandardScaler()\n",
    "X_train = scaler.fit_transform(X_train)\n",
    "X_test = scaler.transform(X_test)\n",
    "\n",
    "knn = KNeighborsClassifier(n_neighbors=3)\n",
    "knn.fit(X_train, y_train)\n",
    "\n",
    "y_pred = knn.predict(X_test)\n",
    "\n",
    "accuracy = accuracy_score(y_test, y_pred)\n",
    "print(f\"\\n KNN Accuracy: {accuracy:.4f}\\n\")\n",
    "print(\"Classification Report:\\n\", classification_report(y_test, y_pred))\n",
    "print(\"Confusion Matrix:\\n\", confusion_matrix(y_test, y_pred))\n",
    "\n",
    "plt.figure(figsize=(12,8))\n",
    "plt.bar([\"Actual 'No Disease'\", \"Actual 'Disease'\"], np.bincount(y_test), color='blue', alpha=0.6, label=\"Actual\")\n",
    "plt.bar([\"Predicted 'No Disease'\", \"Predicted 'Disease'\"], np.bincount(y_pred), color='red', alpha=0.6, label=\"Predicted\")\n",
    "plt.title(\"KNN Classification Results:\")\n",
    "plt.legend()\n",
    "plt.show()\n"
   ]
  },
  {
   "cell_type": "code",
   "execution_count": null,
   "id": "5fb10d19",
   "metadata": {},
   "outputs": [],
   "source": []
  },
  {
   "cell_type": "code",
   "execution_count": 1,
   "id": "0f84afe8",
   "metadata": {},
   "outputs": [],
   "source": [
    "!pip install -q scikit-learn pandas numpy"
   ]
  },
  {
   "cell_type": "code",
   "execution_count": 4,
   "id": "27a97de2",
   "metadata": {},
   "outputs": [
    {
     "name": "stdout",
     "output_type": "stream",
     "text": [
      "Data (Before Imputation):\n",
      "   Pregnant  Glucose  Diastolic_BP  Skin_Fold  Serum_Insulin   BMI  \\\n",
      "0         2     84.0           NaN        NaN            NaN   NaN   \n",
      "1         9    112.0          82.0       24.0            NaN  28.2   \n",
      "2         1    139.0          46.0       19.0           83.0  28.7   \n",
      "3         0    161.0          50.0        NaN            NaN  21.9   \n",
      "4         6    134.0          80.0       37.0          370.0  46.2   \n",
      "\n",
      "   Diabetes_Pedigree  Age  \n",
      "0              0.304   21  \n",
      "1              1.282   50  \n",
      "2              0.654   22  \n",
      "3              0.254   65  \n",
      "4              0.238   46  \n",
      "\n",
      "Data (After KNN Imputation)\n",
      "   Pregnant  Glucose  Diastolic_BP  Skin_Fold  Serum_Insulin   BMI  \\\n",
      "0       2.0     84.0          61.2       24.2           62.0  29.4   \n",
      "1       9.0    112.0          82.0       24.0          212.4  28.2   \n",
      "2       1.0    139.0          46.0       19.0           83.0  28.7   \n",
      "3       0.0    161.0          50.0       25.4          232.0  21.9   \n",
      "4       6.0    134.0          80.0       37.0          370.0  46.2   \n",
      "\n",
      "   Diabetes_Pedigree   Age  \n",
      "0              0.304  21.0  \n",
      "1              1.282  50.0  \n",
      "2              0.654  22.0  \n",
      "3              0.254  65.0  \n",
      "4              0.238  46.0  \n",
      "MSE: 0.2532\n",
      "MAE: 0.2532\n"
     ]
    }
   ],
   "source": [
    "import pandas as pd\n",
    "import numpy as np\n",
    "from sklearn.model_selection import train_test_split\n",
    "from sklearn.impute import KNNImputer, SimpleImputer\n",
    "from sklearn.ensemble import RandomForestClassifier\n",
    "from sklearn.metrics import classification_report, mean_squared_error, mean_absolute_error\n",
    "\n",
    "df = pd.read_csv(\"Diabetes_Missing_Data.csv\")\n",
    "\n",
    "X = df.drop(columns=[\"Class\"])\n",
    "y = df[\"Class\"].replace({\"no\": 0, \"yes\": 1})\n",
    "X_train, X_test, y_train, y_test = train_test_split(X, y, test_size=0.2, random_state=42)\n",
    "\n",
    "X_train = X_train.reset_index(drop=True)\n",
    "X_test = X_test.reset_index(drop=True)\n",
    "y_train = y_train.reset_index(drop=True)\n",
    "y_test = y_test.reset_index(drop=True)\n",
    "\n",
    "print(\"Data (Before Imputation):\")\n",
    "print(X_train.head())\n",
    "\n",
    "X_train_drop = X_train.dropna().reset_index(drop=True)\n",
    "y_train_drop = y_train.loc[X_train_drop.index].reset_index(drop=True)\n",
    "X_test_drop = X_test.dropna().reset_index(drop=True)\n",
    "y_test_drop = y_test.loc[X_test_drop.index].reset_index(drop=True)\n",
    "clf_drop = RandomForestClassifier(random_state=42)\n",
    "clf_drop.fit(X_train_drop, y_train_drop)\n",
    "y_pred_drop = clf_drop.predict(X_test_drop)\n",
    "\n",
    "knn_imputer = KNNImputer(n_neighbors=5)\n",
    "X_train_knn = pd.DataFrame(knn_imputer.fit_transform(X_train), columns=X_train.columns)\n",
    "X_test_knn = pd.DataFrame(knn_imputer.transform(X_test), columns=X_test.columns)\n",
    "\n",
    "print(\"\\nData (After KNN Imputation)\")\n",
    "print(X_train_knn.head())\n",
    "\n",
    "clf_knn = RandomForestClassifier(random_state=42)\n",
    "clf_knn.fit(X_train_knn, y_train)\n",
    "y_pred_knn = clf_knn.predict(X_test_knn)\n",
    "\n",
    "mse_knn = mean_squared_error(y_test, y_pred_knn)\n",
    "mae_knn = mean_absolute_error(y_test, y_pred_knn)\n",
    "\n",
    "print(f\"MSE: {mse_knn:.4f}\")\n",
    "print(f\"MAE: {mae_knn:.4f}\")\n"
   ]
  },
  {
   "cell_type": "code",
   "execution_count": null,
   "id": "e94609c5",
   "metadata": {},
   "outputs": [],
   "source": []
  }
 ],
 "metadata": {
  "kernelspec": {
   "display_name": "Python 3 (ipykernel)",
   "language": "python",
   "name": "python3"
  },
  "language_info": {
   "codemirror_mode": {
    "name": "ipython",
    "version": 3
   },
   "file_extension": ".py",
   "mimetype": "text/x-python",
   "name": "python",
   "nbconvert_exporter": "python",
   "pygments_lexer": "ipython3",
   "version": "3.11.5"
  }
 },
 "nbformat": 4,
 "nbformat_minor": 5
}
