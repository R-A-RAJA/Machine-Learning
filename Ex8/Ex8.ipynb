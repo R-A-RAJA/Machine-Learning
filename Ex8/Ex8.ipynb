{
 "cells": [
  {
   "cell_type": "code",
   "execution_count": 91,
   "id": "74e01e61",
   "metadata": {},
   "outputs": [
    {
     "name": "stdout",
     "output_type": "stream",
     "text": [
      "Confusion Matrix:\n",
      "[[35  0]\n",
      " [ 1 37]]\n",
      "--------------------------------------------------------------------------\n",
      "Classification Report:\n",
      "               precision    recall  f1-score   support\n",
      "\n",
      "           0       0.97      1.00      0.99        35\n",
      "           1       1.00      0.97      0.99        38\n",
      "\n",
      "    accuracy                           0.99        73\n",
      "   macro avg       0.99      0.99      0.99        73\n",
      "weighted avg       0.99      0.99      0.99        73\n",
      "\n",
      "--------------------------------------------------------------------------\n",
      "Coefficient:  [array([[ 4.79873086e-01, -8.47539883e-01,  1.34486932e+00],\n",
      "       [ 3.08981827e-01, -3.60204791e-01, -7.68671814e-01],\n",
      "       [-4.57125122e-05, -1.48302486e-04, -1.56875026e-04],\n",
      "       [ 1.88447921e+00, -2.03056008e+00, -8.66999149e-01],\n",
      "       [ 2.58240291e-01, -3.68445189e-01,  1.07183967e+00],\n",
      "       [-8.87574260e-01,  1.13986305e+00,  5.90327641e-01],\n",
      "       [-2.25442844e+00,  2.12158641e+00,  1.82922542e+00],\n",
      "       [-7.73446782e+00,  7.81758132e+00, -4.94384873e+00],\n",
      "       [ 3.26448042e+00, -1.38008889e+00,  1.03817157e+00],\n",
      "       [-2.35819778e+00,  1.47856300e+00, -1.44849479e+00],\n",
      "       [-6.00181584e+00,  5.97864676e+00, -3.90936541e+00],\n",
      "       [-6.41036319e-01,  1.15894680e-01, -2.23260119e-01],\n",
      "       [-4.88887482e+00,  4.73072986e+00, -3.21442994e+00]]), array([[-5.49690706],\n",
      "       [ 6.2829978 ],\n",
      "       [-4.35770439]])]\n",
      "--------------------------------------------------------------------------\n",
      "Intercepts:  [array([-3.48291379,  3.79760157, -3.16648154]), array([1.30733821])]\n",
      "--------------------------------------------------------------------------\n"
     ]
    },
    {
     "data": {
      "image/png": "[encoded data removed]",
      "text/plain": [
       "<Figure size 640x480 with 1 Axes>"
      ]
     },
     "metadata": {},
     "output_type": "display_data"
    }
   ],
   "source": [
    "import pandas as pd\n",
    "from sklearn.preprocessing import StandardScaler\n",
    "from sklearn.model_selection import train_test_split\n",
    "from sklearn.neural_network import MLPClassifier\n",
    "from sklearn.metrics import confusion_matrix\n",
    "from sklearn.metrics import classification_report\n",
    "import matplotlib.pyplot as plt\n",
    "\n",
    "df=pd.read_csv(\"Forest_Fire_Dataset.csv\")\n",
    "#print(df)\n",
    "#le=LabelEncoder()\n",
    "df['Fire'], unique_values = pd.factorize(df['Classes'])\n",
    "#df['Classes']=le.fit_transform(df['Classes'])\n",
    "#df['Classes']=df['Classes'].replace('fire','1')\n",
    "inplist=df.columns[:-3]\n",
    "scale=StandardScaler()\n",
    "df[inplist]=scale.fit_transform(df[inplist])\n",
    "#print(df.tail(10))\n",
    "\"\"\"\n",
    "y=df.values[:,-1]\n",
    "for i in range(len(y)):\n",
    "    print(str(i+2)+\" \"+str(y[i]))\n",
    "\"\"\"\n",
    "x=df.iloc[:,:-3].values\n",
    "y=df['Fire'].values\n",
    "x_train, x_test, y_train, y_test = train_test_split(x, y, test_size=0.3, random_state=11)\n",
    "clf=MLPClassifier(hidden_layer_sizes=(3,),activation='logistic',max_iter=150,solver='adam',learning_rate='constant',learning_rate_init=0.19)\n",
    "clf.fit(x_train,y_train)\n",
    "ypred = clf.predict(x_test)\n",
    "cm = confusion_matrix(y_test, ypred)\n",
    "print(\"Confusion Matrix:\")\n",
    "print(cm)\n",
    "print(\"--------------------------------------------------------------------------\")\n",
    "print('Classification Report:\\n',classification_report(y_test,ypred))\n",
    "print(\"--------------------------------------------------------------------------\")\n",
    "print('Coefficient: ',clf.coefs_)\n",
    "print(\"--------------------------------------------------------------------------\")\n",
    "print(\"Intercepts: \",clf.intercepts_)\n",
    "print(\"--------------------------------------------------------------------------\")\n",
    "loss_values=clf.loss_curve_\n",
    "plt.plot(loss_values)\n",
    "plt.xlabel('Epochs')\n",
    "plt.ylabel('Loss')\n",
    "plt.show()\n",
    "\n",
    "\n",
    "\n",
    "\n"
   ]
  },
  {
   "cell_type": "code",
   "execution_count": null,
   "id": "fb451ff4",
   "metadata": {},
   "outputs": [],
   "source": []
  },
  {
   "cell_type": "code",
   "execution_count": null,
   "id": "b04410db",
   "metadata": {},
   "outputs": [],
   "source": []
  }
 ],
 "metadata": {
  "kernelspec": {
   "display_name": "Python 3 (ipykernel)",
   "language": "python",
   "name": "python3"
  },
  "language_info": {
   "codemirror_mode": {
    "name": "ipython",
    "version": 3
   },
   "file_extension": ".py",
   "mimetype": "text/x-python",
   "name": "python",
   "nbconvert_exporter": "python",
   "pygments_lexer": "ipython3",
   "version": "3.11.5"
  }
 },
 "nbformat": 4,
 "nbformat_minor": 5
}
