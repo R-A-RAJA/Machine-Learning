{
 "cells": [
  {
   "cell_type": "code",
   "execution_count": 2,
   "id": "6a68a702",
   "metadata": {},
   "outputs": [
    {
     "data": {
      "text/plain": [
       "'\\nAthithraja R\\n2022503702\\n'"
      ]
     },
     "execution_count": 2,
     "metadata": {},
     "output_type": "execute_result"
    }
   ],
   "source": [
    "\"\"\"\n",
    "Athithraja R\n",
    "2022503702\n",
    "\"\"\""
   ]
  },
  {
   "cell_type": "code",
   "execution_count": 3,
   "id": "841db96d",
   "metadata": {},
   "outputs": [],
   "source": [
    "#Genetic algorithm without libraries"
   ]
  },
  {
   "cell_type": "code",
   "execution_count": 4,
   "id": "1e57120e",
   "metadata": {},
   "outputs": [
    {
     "name": "stdout",
     "output_type": "stream",
     "text": [
      "Generation 1: Best Fitness = 6084, x = 78\n",
      "Generation 2: Best Fitness = 4356, x = 66\n",
      "Generation 3: Best Fitness = 9801, x = 99\n",
      "Generation 4: Best Fitness = 7921, x = 89\n",
      "Generation 5: Best Fitness = 6889, x = 83\n",
      "Generation 6: Best Fitness = 9025, x = 95\n",
      "Generation 7: Best Fitness = 6724, x = 82\n",
      "Generation 8: Best Fitness = 8836, x = 94\n",
      "Generation 9: Best Fitness = 9604, x = 98\n",
      "Generation 10: Best Fitness = 9604, x = 98\n",
      "Generation 11: Best Fitness = 9604, x = 98\n",
      "Generation 12: Best Fitness = 10000, x = 100\n",
      "Generation 13: Best Fitness = 7744, x = 88\n",
      "Generation 14: Best Fitness = 7225, x = 85\n",
      "Generation 15: Best Fitness = 8649, x = 93\n",
      "Generation 16: Best Fitness = 4356, x = 66\n",
      "Generation 17: Best Fitness = 10000, x = 100\n",
      "Generation 18: Best Fitness = 8464, x = 92\n",
      "Generation 19: Best Fitness = 10000, x = 100\n",
      "Generation 20: Best Fitness = 9801, x = 99\n",
      "Best solution found: x = 83, f(x) = 6889\n"
     ]
    }
   ],
   "source": [
    "import random\n",
    "\n",
    "def fitness(x):\n",
    "    return x**2\n",
    "\n",
    "def crossover(parent1, parent2):\n",
    "    return [random.choice([parent1[0], parent2[0]])]\n",
    "\n",
    "def mutate(offspring):\n",
    "    offspring[0] = random.randint(0, 100)\n",
    "    return offspring\n",
    "\n",
    "def genetic_algorithm(pop_size, generations):\n",
    "    population = [[random.randint(0, 100)] for _ in range(pop_size)]\n",
    "    \n",
    "    for generation in range(generations):\n",
    "        population = sorted(population, key=lambda x: fitness(x[0]), reverse=True)\n",
    "        print(f\"Generation {generation + 1}: Best Fitness = {fitness(population[0][0])}, x = {population[0][0]}\")\n",
    "        \n",
    "        new_population = []\n",
    "        for i in range(pop_size // 2):\n",
    "            parent1 = population[i]\n",
    "            parent2 = population[i + 1]\n",
    "            offspring1 = crossover(parent1, parent2)\n",
    "            offspring2 = crossover(parent2, parent1)\n",
    "            offspring1 = mutate(offspring1)\n",
    "            offspring2 = mutate(offspring2)\n",
    "            new_population.extend([offspring1, offspring2])\n",
    "        \n",
    "        population = new_population\n",
    "    \n",
    "    return population[0][0]\n",
    "\n",
    "best_solution = genetic_algorithm(pop_size=10, generations=20)\n",
    "print(f\"Best solution found: x = {best_solution}, f(x) = {fitness(best_solution)}\")\n"
   ]
  },
  {
   "cell_type": "code",
   "execution_count": 5,
   "id": "c47d8add",
   "metadata": {},
   "outputs": [],
   "source": [
    "#Genetic algorithm with libraries"
   ]
  },
  {
   "cell_type": "code",
   "execution_count": 6,
   "id": "4d76dab4",
   "metadata": {},
   "outputs": [
    {
     "ename": "ValueError",
     "evalue": "empty range for randrange() (1, 1, 0)",
     "output_type": "error",
     "traceback": [
      "\u001b[1;31m---------------------------------------------------------------------------\u001b[0m",
      "\u001b[1;31mValueError\u001b[0m                                Traceback (most recent call last)",
      "Cell \u001b[1;32mIn[6], line 38\u001b[0m\n\u001b[0;32m     36\u001b[0m \u001b[38;5;28;01mfor\u001b[39;00m child1, child2 \u001b[38;5;129;01min\u001b[39;00m \u001b[38;5;28mzip\u001b[39m(offspring[::\u001b[38;5;241m2\u001b[39m], offspring[\u001b[38;5;241m1\u001b[39m::\u001b[38;5;241m2\u001b[39m]):\n\u001b[0;32m     37\u001b[0m     \u001b[38;5;28;01mif\u001b[39;00m random\u001b[38;5;241m.\u001b[39mrandom() \u001b[38;5;241m<\u001b[39m probability_crossover:\n\u001b[1;32m---> 38\u001b[0m         toolbox\u001b[38;5;241m.\u001b[39mmate(child1, child2)\n\u001b[0;32m     39\u001b[0m         \u001b[38;5;28;01mdel\u001b[39;00m child1\u001b[38;5;241m.\u001b[39mfitness\u001b[38;5;241m.\u001b[39mvalues\n\u001b[0;32m     40\u001b[0m         \u001b[38;5;28;01mdel\u001b[39;00m child2\u001b[38;5;241m.\u001b[39mfitness\u001b[38;5;241m.\u001b[39mvalues\n",
      "File \u001b[1;32m~\\AppData\\Roaming\\Python\\Python311\\site-packages\\deap\\tools\\crossover.py:50\u001b[0m, in \u001b[0;36mcxTwoPoint\u001b[1;34m(ind1, ind2)\u001b[0m\n\u001b[0;32m     48\u001b[0m size \u001b[38;5;241m=\u001b[39m \u001b[38;5;28mmin\u001b[39m(\u001b[38;5;28mlen\u001b[39m(ind1), \u001b[38;5;28mlen\u001b[39m(ind2))\n\u001b[0;32m     49\u001b[0m cxpoint1 \u001b[38;5;241m=\u001b[39m random\u001b[38;5;241m.\u001b[39mrandint(\u001b[38;5;241m1\u001b[39m, size)\n\u001b[1;32m---> 50\u001b[0m cxpoint2 \u001b[38;5;241m=\u001b[39m random\u001b[38;5;241m.\u001b[39mrandint(\u001b[38;5;241m1\u001b[39m, size \u001b[38;5;241m-\u001b[39m \u001b[38;5;241m1\u001b[39m)\n\u001b[0;32m     51\u001b[0m \u001b[38;5;28;01mif\u001b[39;00m cxpoint2 \u001b[38;5;241m>\u001b[39m\u001b[38;5;241m=\u001b[39m cxpoint1:\n\u001b[0;32m     52\u001b[0m     cxpoint2 \u001b[38;5;241m+\u001b[39m\u001b[38;5;241m=\u001b[39m \u001b[38;5;241m1\u001b[39m\n",
      "File \u001b[1;32mC:\\ProgramData\\anaconda3\\Lib\\random.py:362\u001b[0m, in \u001b[0;36mRandom.randint\u001b[1;34m(self, a, b)\u001b[0m\n\u001b[0;32m    358\u001b[0m \u001b[38;5;28;01mdef\u001b[39;00m \u001b[38;5;21mrandint\u001b[39m(\u001b[38;5;28mself\u001b[39m, a, b):\n\u001b[0;32m    359\u001b[0m \u001b[38;5;250m    \u001b[39m\u001b[38;5;124;03m\"\"\"Return random integer in range [a, b], including both end points.\u001b[39;00m\n\u001b[0;32m    360\u001b[0m \u001b[38;5;124;03m    \"\"\"\u001b[39;00m\n\u001b[1;32m--> 362\u001b[0m     \u001b[38;5;28;01mreturn\u001b[39;00m \u001b[38;5;28mself\u001b[39m\u001b[38;5;241m.\u001b[39mrandrange(a, b\u001b[38;5;241m+\u001b[39m\u001b[38;5;241m1\u001b[39m)\n",
      "File \u001b[1;32mC:\\ProgramData\\anaconda3\\Lib\\random.py:345\u001b[0m, in \u001b[0;36mRandom.randrange\u001b[1;34m(self, start, stop, step)\u001b[0m\n\u001b[0;32m    343\u001b[0m     \u001b[38;5;28;01mif\u001b[39;00m width \u001b[38;5;241m>\u001b[39m \u001b[38;5;241m0\u001b[39m:\n\u001b[0;32m    344\u001b[0m         \u001b[38;5;28;01mreturn\u001b[39;00m istart \u001b[38;5;241m+\u001b[39m \u001b[38;5;28mself\u001b[39m\u001b[38;5;241m.\u001b[39m_randbelow(width)\n\u001b[1;32m--> 345\u001b[0m     \u001b[38;5;28;01mraise\u001b[39;00m \u001b[38;5;167;01mValueError\u001b[39;00m(\u001b[38;5;124m\"\u001b[39m\u001b[38;5;124mempty range for randrange() (\u001b[39m\u001b[38;5;132;01m%d\u001b[39;00m\u001b[38;5;124m, \u001b[39m\u001b[38;5;132;01m%d\u001b[39;00m\u001b[38;5;124m, \u001b[39m\u001b[38;5;132;01m%d\u001b[39;00m\u001b[38;5;124m)\u001b[39m\u001b[38;5;124m\"\u001b[39m \u001b[38;5;241m%\u001b[39m (istart, istop, width))\n\u001b[0;32m    347\u001b[0m \u001b[38;5;66;03m# Non-unit step argument supplied.\u001b[39;00m\n\u001b[0;32m    348\u001b[0m \u001b[38;5;28;01mif\u001b[39;00m istep \u001b[38;5;241m>\u001b[39m \u001b[38;5;241m0\u001b[39m:\n",
      "\u001b[1;31mValueError\u001b[0m: empty range for randrange() (1, 1, 0)"
     ]
    }
   ],
   "source": [
    "from deap import base, creator, tools, algorithms\n",
    "import random\n",
    "\n",
    "creator.create(\"FitnessMax\", base.Fitness, weights=(1.0,))\n",
    "creator.create(\"Individual\", list, fitness=creator.FitnessMax)\n",
    "\n",
    "def create_individual():\n",
    "    return [random.randint(0, 100)]\n",
    "\n",
    "def fitness(individual):\n",
    "    return individual[0]**2,\n",
    "\n",
    "toolbox = base.Toolbox()\n",
    "toolbox.register(\"individual\", tools.initIterate, creator.Individual, create_individual)\n",
    "toolbox.register(\"population\", tools.initRepeat, list, toolbox.individual)\n",
    "toolbox.register(\"mate\", tools.cxTwoPoint)\n",
    "toolbox.register(\"mutate\", tools.mutGaussian, mu=0, sigma=1, indpb=0.2)\n",
    "toolbox.register(\"select\", tools.selTournament, tournsize=3)\n",
    "toolbox.register(\"evaluate\", fitness)\n",
    "\n",
    "population_size = 10\n",
    "generations = 20\n",
    "probability_crossover = 0.7\n",
    "probability_mutation = 0.2\n",
    "\n",
    "population = toolbox.population(n=population_size)\n",
    "\n",
    "for generation in range(generations):\n",
    "    fitnesses = list(map(toolbox.evaluate, population))\n",
    "    for ind, fit in zip(population, fitnesses):\n",
    "        ind.fitness.values = fit\n",
    "    \n",
    "    parents = toolbox.select(population, len(population))\n",
    "    offspring = list(map(toolbox.clone, parents))\n",
    "    \n",
    "    for child1, child2 in zip(offspring[::2], offspring[1::2]):\n",
    "        if random.random() < probability_crossover:\n",
    "            toolbox.mate(child1, child2)\n",
    "            del child1.fitness.values\n",
    "            del child2.fitness.values\n",
    "    \n",
    "    for child in offspring:\n",
    "        if random.random() < probability_mutation:\n",
    "            toolbox.mutate(child)\n",
    "            del child.fitness.values\n",
    "    \n",
    "    for ind in offspring:\n",
    "        if not ind.fitness.valid:\n",
    "            ind.fitness.values = toolbox.evaluate(ind)\n",
    "    \n",
    "    population[:] = offspring\n",
    "    best_individual = tools.selBest(population, 1)[0]\n",
    "    print(f\"Generation {generation + 1}: Best Fitness = {best_individual.fitness.values[0]}, x = {best_individual[0]}\")\n",
    "\n",
    "best_solution = tools.selBest(population, 1)[0]\n",
    "print(f\"Best solution found: x = {best_solution[0]}, f(x) = {best_solution.fitness.values[0]}\")\n"
   ]
  },
  {
   "cell_type": "code",
   "execution_count": null,
   "id": "8daef5d3",
   "metadata": {},
   "outputs": [],
   "source": [
    "pip install deap\n"
   ]
  },
  {
   "cell_type": "code",
   "execution_count": null,
   "id": "ef1fe96d",
   "metadata": {},
   "outputs": [],
   "source": [
    "\"\"\"\n",
    "3) Perform a genetic algorithm process for minimizing the following optimization problem\n",
    "f(x)= 2x^2-3x+10, 0<x<=20\n",
    "use roullete wheel selection for selection operation . perform 2 point crossover, mutation flipping of bits , compute this for 2 generations, fix population size=4, use 6 bit chromosome fabrication\n",
    "initial individuals taken as\n",
    "2, 8, 5, 11\n",
    "\"\"\""
   ]
  },
  {
   "cell_type": "code",
   "execution_count": 7,
   "id": "d7eb12c9",
   "metadata": {},
   "outputs": [
    {
     "name": "stdout",
     "output_type": "stream",
     "text": [
      "Generation 1:\n",
      "Individual 1: 001010 -> x = 10, Fitness = 180\n",
      "Individual 2: 000010 -> x = 2, Fitness = 12\n",
      "Generation 2:\n",
      "Individual 1: 001010 -> x = 10, Fitness = 180\n",
      "Individual 2: 001010 -> x = 10, Fitness = 180\n",
      "\n",
      "Best solution: x = 10, f(x) = 180\n"
     ]
    }
   ],
   "source": [
    "import random\n",
    "\n",
    "def fitness(x):\n",
    "    return 2*x**2 - 3*x + 10\n",
    "\n",
    "def int_to_bin(x):\n",
    "    return format(x, '06b')\n",
    "\n",
    "def bin_to_int(b):\n",
    "    return int(b, 2)\n",
    "\n",
    "def roulette_wheel_selection(population, fitness_values):\n",
    "    total_fitness = sum(fitness_values)\n",
    "    prob = [f / total_fitness for f in fitness_values]\n",
    "    selected_idx = random.choices(range(len(population)), prob, k=2)\n",
    "    return [population[i] for i in selected_idx]\n",
    "\n",
    "def crossover(parent1, parent2):\n",
    "    point1 = random.randint(1, 5)\n",
    "    point2 = random.randint(point1, 5)\n",
    "    child1 = parent1[:point1] + parent2[point1:point2] + parent1[point2:]\n",
    "    child2 = parent2[:point1] + parent1[point1:point2] + parent2[point2:]\n",
    "    return child1, child2\n",
    "\n",
    "def mutate(individual, mutation_rate=0.1):\n",
    "    individual = list(individual)\n",
    "    for i in range(len(individual)):\n",
    "        if random.random() < mutation_rate:\n",
    "            individual[i] = '1' if individual[i] == '0' else '0'\n",
    "    return ''.join(individual)\n",
    "\n",
    "def genetic_algorithm(population, generations=2, mutation_rate=0.1):\n",
    "    for generation in range(generations):\n",
    "        print(f\"Generation {generation + 1}:\")\n",
    "        fitness_values = [fitness(bin_to_int(ind)) for ind in population]\n",
    "        selected_parents = roulette_wheel_selection(population, fitness_values)\n",
    "        offspring = []\n",
    "        for i in range(0, len(selected_parents), 2):\n",
    "            parent1, parent2 = selected_parents[i], selected_parents[i + 1]\n",
    "            child1, child2 = crossover(parent1, parent2)\n",
    "            offspring.append(mutate(child1, mutation_rate))\n",
    "            offspring.append(mutate(child2, mutation_rate))\n",
    "        population = offspring\n",
    "        for i, ind in enumerate(population):\n",
    "            print(f\"Individual {i + 1}: {ind} -> x = {bin_to_int(ind)}, Fitness = {fitness(bin_to_int(ind))}\")\n",
    "    return population\n",
    "\n",
    "population = ['000010', '001000', '000101', '001011']\n",
    "final_population = genetic_algorithm(population)\n",
    "best_individual = min(final_population, key=lambda ind: fitness(bin_to_int(ind)))\n",
    "best_x = bin_to_int(best_individual)\n",
    "print(f\"\\nBest solution: x = {best_x}, f(x) = {fitness(best_x)}\")\n"
   ]
  },
  {
   "cell_type": "code",
   "execution_count": 8,
   "id": "ad7857b6",
   "metadata": {},
   "outputs": [
    {
     "data": {
      "text/plain": [
       "'\\n1 point crossover, without mutation\\n'"
      ]
     },
     "execution_count": 8,
     "metadata": {},
     "output_type": "execute_result"
    }
   ],
   "source": [
    "\"\"\"\n",
    "1 point crossover, without mutation\n",
    "\"\"\""
   ]
  },
  {
   "cell_type": "code",
   "execution_count": 9,
   "id": "58d27ac8",
   "metadata": {},
   "outputs": [
    {
     "name": "stdout",
     "output_type": "stream",
     "text": [
      "Generation 1\n",
      "Fitness values: [12, 114, 45, 219]\n",
      "Selected Parents: 001000 (x=8), 001011 (x=11)\n",
      "Offspring after 1-point crossover: 001011 (x=11), 001000 (x=8)\n",
      "New Population: ['001011', '001000', '001011', '001000']\n",
      "New Population Fitness: [219, 114, 219, 114]\n",
      "Best individual: 001011 (x=11), Fitness: 219\n"
     ]
    }
   ],
   "source": [
    "import random\n",
    "\n",
    "def fitness(x):\n",
    "    return 2 * x**2 - 3 * x + 10\n",
    "\n",
    "def roulette_wheel_selection(population, fitness_values):\n",
    "    total_fitness = sum(fitness_values)\n",
    "    selection_probabilities = [f / total_fitness for f in fitness_values]\n",
    "    selected = random.choices(population, weights=selection_probabilities, k=2)\n",
    "    return selected\n",
    "\n",
    "def one_point_crossover(parent1, parent2):\n",
    "    crossover_point = random.randint(1, len(parent1) - 1)  \n",
    "    offspring1 = parent1[:crossover_point] + parent2[crossover_point:]\n",
    "    offspring2 = parent2[:crossover_point] + parent1[crossover_point:]\n",
    "    return offspring1, offspring2\n",
    "\n",
    "def binary_to_decimal(binary_str):\n",
    "    return int(binary_str, 2)\n",
    "\n",
    "def decimal_to_binary(decimal, bits):\n",
    "    return format(decimal, f'0{bits}b')\n",
    "\n",
    "population = ['000010', '001000', '000101', '001011']\n",
    "\n",
    "for generation in range(1):\n",
    "    print(f\"Generation {generation + 1}\")\n",
    "    \n",
    "    fitness_values = [fitness(binary_to_decimal(individual)) for individual in population]\n",
    "    print(f\"Fitness values: {fitness_values}\")\n",
    "    \n",
    "    parent1, parent2 = roulette_wheel_selection(population, fitness_values)\n",
    "    print(f\"Selected Parents: {parent1} (x={binary_to_decimal(parent1)}), {parent2} (x={binary_to_decimal(parent2)})\")\n",
    "    \n",
    "    offspring1, offspring2 = one_point_crossover(parent1, parent2)\n",
    "    print(f\"Offspring after 1-point crossover: {offspring1} (x={binary_to_decimal(offspring1)}), {offspring2} (x={binary_to_decimal(offspring2)})\")\n",
    "    \n",
    "    population = [offspring1, offspring2] * 2  \n",
    "    print(f\"New Population: {population}\")\n",
    "    \n",
    "    new_fitness_values = [fitness(binary_to_decimal(individual)) for individual in population]\n",
    "    print(f\"New Population Fitness: {new_fitness_values}\")\n",
    "\n",
    "best_individual = max(zip(population, new_fitness_values), key=lambda x: x[1])\n",
    "print(f\"Best individual: {best_individual[0]} (x={binary_to_decimal(best_individual[0])}), Fitness: {best_individual[1]}\")\n"
   ]
  },
  {
   "cell_type": "code",
   "execution_count": 10,
   "id": "43289aa9",
   "metadata": {},
   "outputs": [
    {
     "data": {
      "text/plain": [
       "'New One'"
      ]
     },
     "execution_count": 10,
     "metadata": {},
     "output_type": "execute_result"
    }
   ],
   "source": [
    "\"New One\""
   ]
  },
  {
   "cell_type": "code",
   "execution_count": 15,
   "id": "f66fbd20",
   "metadata": {},
   "outputs": [
    {
     "name": "stdout",
     "output_type": "stream",
     "text": [
      "Enter the no. of values: 4\n",
      "Enter the 1st value of x: 23\n",
      "Enter the 2st value of x: 55\n",
      "Enter the 3st value of x: 77\n",
      "Enter the 4st value of x: 12\n",
      "[23, 55, 77, 12]\n",
      "['010111', '110111', '1001101', '001100']\n"
     ]
    }
   ],
   "source": [
    "n=int(input(\"Enter the no. of values: \"))\n",
    "xl=[]\n",
    "for i in range(n):\n",
    "    xl.append(int(input(\"Enter the \"+str(i+1)+\"st value of x: \")))\n",
    "print(xl)\n",
    "bi=[]\n",
    "for i in xl:\n",
    "    bi.append(format(i,'06b'))\n",
    "print(bi)"
   ]
  },
  {
   "cell_type": "code",
   "execution_count": 16,
   "id": "fbad4a43",
   "metadata": {},
   "outputs": [
    {
     "name": "stdout",
     "output_type": "stream",
     "text": [
      "[999, 5895, 11637, 262]\n"
     ]
    }
   ],
   "source": [
    "fx=[]\n",
    "for i in xl:\n",
    "    fx.append((2*((i)**2))-(3*i)+10)\n",
    "print(fx)"
   ]
  },
  {
   "cell_type": "code",
   "execution_count": 17,
   "id": "5a12f335",
   "metadata": {},
   "outputs": [
    {
     "name": "stdout",
     "output_type": "stream",
     "text": [
      "[0.05315809077848135, 0.31368062576491246, 0.6192199223114989, 0.01394136114510722]\n"
     ]
    }
   ],
   "source": [
    "prob=[]\n",
    "for i in fx:\n",
    "    prob.append(i/sum(fx))\n",
    "print(prob)"
   ]
  },
  {
   "cell_type": "code",
   "execution_count": 30,
   "id": "bbad5f25",
   "metadata": {},
   "outputs": [
    {
     "name": "stdout",
     "output_type": "stream",
     "text": [
      "['010111', '110111', '1001101', '1001101']\n"
     ]
    }
   ],
   "source": [
    "min_ind=(prob.index(min(prob)))\n",
    "max_ind=(prob.index(max(prob)))\n",
    "bi[min_ind]=bi[max_ind]\n",
    "print(bi)"
   ]
  },
  {
   "cell_type": "code",
   "execution_count": 53,
   "id": "8daf0a30",
   "metadata": {},
   "outputs": [],
   "source": [
    "#1point cross over\n",
    "def cross_over(a,b):\n",
    "    cross=2\n",
    "    a_pre=a[:-cross]\n",
    "    b_pre=b[:-cross]\n",
    "    a_suf=a[-cross:]\n",
    "    b_suf=b[-cross:]\n",
    "    a=a_pre+b_suf\n",
    "    b=b_pre+a_suf\n",
    "    return a,b"
   ]
  },
  {
   "cell_type": "code",
   "execution_count": 57,
   "id": "361bc955",
   "metadata": {},
   "outputs": [],
   "source": [
    "bi[0],bi[2]=cross_over(bi[0],bi[2])"
   ]
  },
  {
   "cell_type": "code",
   "execution_count": 58,
   "id": "f6bad62a",
   "metadata": {},
   "outputs": [
    {
     "name": "stdout",
     "output_type": "stream",
     "text": [
      "['010111', '110111', '1001101', '1001101']\n"
     ]
    }
   ],
   "source": [
    "print(bi)"
   ]
  },
  {
   "cell_type": "code",
   "execution_count": 70,
   "id": "729bf72a",
   "metadata": {},
   "outputs": [],
   "source": [
    "def flip_bit(s):\n",
    "    new_bi=[]\n",
    "    for i in s:\n",
    "        st=\"\"\n",
    "        for j in range(len(i)):\n",
    "            if i[j]==\"0\":\n",
    "                st=st+\"1\"\n",
    "            else:\n",
    "                st=st+\"0\"\n",
    "        new_bi.append(st)\n",
    "    return new_bi"
   ]
  },
  {
   "cell_type": "code",
   "execution_count": 78,
   "id": "6459e6ba",
   "metadata": {},
   "outputs": [
    {
     "name": "stdout",
     "output_type": "stream",
     "text": [
      "old bit: ['010111', '110111', '1001101', '1001101']\n",
      "after flip bit: ['101000', '001000', '0110010', '0110010']\n"
     ]
    }
   ],
   "source": [
    "print(\"old bit: \"+str(bi))\n",
    "bi=flip_bit(bi)\n",
    "print(\"after flip bit: \"+str(bi))"
   ]
  },
  {
   "cell_type": "code",
   "execution_count": 79,
   "id": "b67d07b3",
   "metadata": {},
   "outputs": [
    {
     "name": "stdout",
     "output_type": "stream",
     "text": [
      "[40, 8, 50, 50]\n"
     ]
    }
   ],
   "source": [
    "dec=[]\n",
    "for i in bi:\n",
    "    dec.append(int(i,2))\n",
    "print(dec)"
   ]
  },
  {
   "cell_type": "code",
   "execution_count": null,
   "id": "aadcca54",
   "metadata": {},
   "outputs": [],
   "source": []
  }
 ],
 "metadata": {
  "kernelspec": {
   "display_name": "Python 3 (ipykernel)",
   "language": "python",
   "name": "python3"
  },
  "language_info": {
   "codemirror_mode": {
    "name": "ipython",
    "version": 3
   },
   "file_extension": ".py",
   "mimetype": "text/x-python",
   "name": "python",
   "nbconvert_exporter": "python",
   "pygments_lexer": "ipython3",
   "version": "3.11.5"
  }
 },
 "nbformat": 4,
 "nbformat_minor": 5
}
