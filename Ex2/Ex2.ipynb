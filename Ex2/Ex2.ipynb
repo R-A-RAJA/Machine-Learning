{
 "cells": [
  {
   "cell_type": "code",
   "execution_count": 86,
   "id": "e11abd62",
   "metadata": {},
   "outputs": [],
   "source": [
    "# Name: Athithraja. R\n",
    "# Reg.no: 2022503702"
   ]
  },
  {
   "cell_type": "code",
   "execution_count": 87,
   "id": "1e2c485b",
   "metadata": {},
   "outputs": [],
   "source": [
    "#Pandas Examples"
   ]
  },
  {
   "cell_type": "code",
   "execution_count": 88,
   "id": "737fd9c4",
   "metadata": {},
   "outputs": [],
   "source": [
    "#1. To read the content of an Excel file into a DataFrame:"
   ]
  },
  {
   "cell_type": "code",
   "execution_count": 89,
   "id": "91da6c75",
   "metadata": {},
   "outputs": [],
   "source": [
    "import pandas as pd"
   ]
  },
  {
   "cell_type": "code",
   "execution_count": 90,
   "id": "6341e54d",
   "metadata": {},
   "outputs": [
    {
     "name": "stdout",
     "output_type": "stream",
     "text": [
      "     Name  Age\n",
      "0    athi   20\n",
      "1     als   27\n",
      "2   as;sq   22\n",
      "3   qwdjq   10\n",
      "4   qd;kj   90\n",
      "5    athi   20\n",
      "6     als   27\n",
      "7   as;sq   22\n",
      "8   qwdjq   10\n",
      "9   qd;kj   90\n",
      "10   athi   20\n",
      "11    als   27\n",
      "12  as;sq   22\n",
      "13  qwdjq   10\n",
      "14  qd;kj   90\n"
     ]
    }
   ],
   "source": [
    "data_frame=pd.read_excel('a.xlsx')\n",
    "print(data_frame)"
   ]
  },
  {
   "cell_type": "code",
   "execution_count": 91,
   "id": "5c70dbe8",
   "metadata": {},
   "outputs": [],
   "source": [
    "#2. To read the content of a CSV file into a DataFrame:"
   ]
  },
  {
   "cell_type": "code",
   "execution_count": 92,
   "id": "9a9ad7ca",
   "metadata": {},
   "outputs": [
    {
     "name": "stdout",
     "output_type": "stream",
     "text": [
      "     Name   Age\n",
      "0    Athi    20\n",
      "1   sjksx    78\n",
      "2    xsjb     8\n",
      "3     jks    30\n",
      "4     ksj    31\n",
      "5    Athi    20\n",
      "6   sjksx    78\n",
      "7    xsjb     8\n",
      "8     jks    30\n",
      "9     ksj    31\n",
      "10   Athi    20\n",
      "11  sjksx    78\n",
      "12   xsjb     8\n",
      "13    jks    30\n"
     ]
    }
   ],
   "source": [
    "data_csv=pd.read_csv('b.csv')\n",
    "print(data_csv)"
   ]
  },
  {
   "cell_type": "code",
   "execution_count": 93,
   "id": "c4587299",
   "metadata": {},
   "outputs": [],
   "source": [
    "#3. Print the first five rows:"
   ]
  },
  {
   "cell_type": "code",
   "execution_count": 94,
   "id": "769e40df",
   "metadata": {},
   "outputs": [
    {
     "name": "stdout",
     "output_type": "stream",
     "text": [
      "    Name   Age\n",
      "0   Athi    20\n",
      "1  sjksx    78\n",
      "2   xsjb     8\n",
      "3    jks    30\n",
      "4    ksj    31\n"
     ]
    }
   ],
   "source": [
    "print(data_csv.head())"
   ]
  },
  {
   "cell_type": "code",
   "execution_count": 95,
   "id": "d116d426",
   "metadata": {},
   "outputs": [],
   "source": [
    "#4. Print the last five rows:"
   ]
  },
  {
   "cell_type": "code",
   "execution_count": 96,
   "id": "4e4f2944",
   "metadata": {},
   "outputs": [
    {
     "name": "stdout",
     "output_type": "stream",
     "text": [
      "     Name   Age\n",
      "9     ksj    31\n",
      "10   Athi    20\n",
      "11  sjksx    78\n",
      "12   xsjb     8\n",
      "13    jks    30\n"
     ]
    }
   ],
   "source": [
    "print(data_csv.tail())"
   ]
  },
  {
   "cell_type": "code",
   "execution_count": 97,
   "id": "594d5d26",
   "metadata": {},
   "outputs": [],
   "source": [
    "#5. Print the first 3 rows:"
   ]
  },
  {
   "cell_type": "code",
   "execution_count": 98,
   "id": "7d6554d3",
   "metadata": {},
   "outputs": [
    {
     "name": "stdout",
     "output_type": "stream",
     "text": [
      "    Name   Age\n",
      "0   Athi    20\n",
      "1  sjksx    78\n",
      "2   xsjb     8\n"
     ]
    }
   ],
   "source": [
    "print(data_csv.head(3))"
   ]
  },
  {
   "cell_type": "code",
   "execution_count": 99,
   "id": "725ab92e",
   "metadata": {},
   "outputs": [],
   "source": [
    "#6. Print the last 3 rows:"
   ]
  },
  {
   "cell_type": "code",
   "execution_count": 100,
   "id": "90cc6756",
   "metadata": {},
   "outputs": [
    {
     "name": "stdout",
     "output_type": "stream",
     "text": [
      "     Name   Age\n",
      "11  sjksx    78\n",
      "12   xsjb     8\n",
      "13    jks    30\n"
     ]
    }
   ],
   "source": [
    "print(data_csv.tail(3))"
   ]
  },
  {
   "cell_type": "code",
   "execution_count": 101,
   "id": "f295fd8f",
   "metadata": {},
   "outputs": [],
   "source": [
    "#7. Print a summary of the data:"
   ]
  },
  {
   "cell_type": "code",
   "execution_count": 102,
   "id": "d8f588af",
   "metadata": {},
   "outputs": [
    {
     "name": "stdout",
     "output_type": "stream",
     "text": [
      "<class 'pandas.core.frame.DataFrame'>\n",
      "RangeIndex: 14 entries, 0 to 13\n",
      "Data columns (total 2 columns):\n",
      " #   Column  Non-Null Count  Dtype \n",
      "---  ------  --------------  ----- \n",
      " 0   Name    14 non-null     object\n",
      " 1    Age    14 non-null     int64 \n",
      "dtypes: int64(1), object(1)\n",
      "memory usage: 356.0+ bytes\n",
      "None\n"
     ]
    }
   ],
   "source": [
    "print(data_csv.info())"
   ]
  },
  {
   "cell_type": "code",
   "execution_count": 103,
   "id": "5ed86453",
   "metadata": {},
   "outputs": [],
   "source": [
    "#8. Attributes printed by describe():"
   ]
  },
  {
   "cell_type": "code",
   "execution_count": 104,
   "id": "797074d9",
   "metadata": {},
   "outputs": [
    {
     "name": "stdout",
     "output_type": "stream",
     "text": [
      "             Age\n",
      "count  14.000000\n",
      "mean   33.571429\n",
      "std    25.551499\n",
      "min     8.000000\n",
      "25%    20.000000\n",
      "50%    30.000000\n",
      "75%    31.000000\n",
      "max    78.000000\n"
     ]
    }
   ],
   "source": [
    "print(data_csv.describe())"
   ]
  },
  {
   "cell_type": "code",
   "execution_count": 105,
   "id": "e2b3a4b2",
   "metadata": {},
   "outputs": [],
   "source": [
    "#9. Print summary of categorical values:"
   ]
  },
  {
   "cell_type": "code",
   "execution_count": 106,
   "id": "588a40f3",
   "metadata": {},
   "outputs": [
    {
     "name": "stdout",
     "output_type": "stream",
     "text": [
      "        Name\n",
      "count     14\n",
      "unique     5\n",
      "top     Athi\n",
      "freq       3\n"
     ]
    }
   ],
   "source": [
    "print(data_csv.describe(include='object'))"
   ]
  },
  {
   "cell_type": "code",
   "execution_count": 107,
   "id": "a06148b4",
   "metadata": {},
   "outputs": [],
   "source": [
    "#10. Print categorical column values using describe():"
   ]
  },
  {
   "cell_type": "code",
   "execution_count": 108,
   "id": "f215fbfb",
   "metadata": {},
   "outputs": [
    {
     "name": "stdout",
     "output_type": "stream",
     "text": [
      "count       15\n",
      "unique       5\n",
      "top       athi\n",
      "freq         3\n",
      "Name: Name, dtype: object\n"
     ]
    }
   ],
   "source": [
    "print(data_frame['Name'].describe())"
   ]
  },
  {
   "cell_type": "code",
   "execution_count": 109,
   "id": "7beeb97b",
   "metadata": {},
   "outputs": [],
   "source": [
    "#11. Summary of a single attribute using describe()"
   ]
  },
  {
   "cell_type": "code",
   "execution_count": 110,
   "id": "27959168",
   "metadata": {},
   "outputs": [
    {
     "name": "stdout",
     "output_type": "stream",
     "text": [
      "count    15.000000\n",
      "mean     33.800000\n",
      "std      29.643597\n",
      "min      10.000000\n",
      "25%      20.000000\n",
      "50%      22.000000\n",
      "75%      27.000000\n",
      "max      90.000000\n",
      "Name: Age, dtype: float64\n"
     ]
    }
   ],
   "source": [
    "print(data_frame['Age'].describe())"
   ]
  },
  {
   "cell_type": "code",
   "execution_count": 111,
   "id": "0967c26c",
   "metadata": {},
   "outputs": [],
   "source": [
    "#12. Print distinct observations for each attribute"
   ]
  },
  {
   "cell_type": "code",
   "execution_count": 112,
   "id": "21cfe54b",
   "metadata": {},
   "outputs": [
    {
     "name": "stdout",
     "output_type": "stream",
     "text": [
      "Name    5\n",
      "Age     5\n",
      "dtype: int64\n"
     ]
    }
   ],
   "source": [
    "print(data_frame.nunique())"
   ]
  },
  {
   "cell_type": "code",
   "execution_count": 113,
   "id": "2eb14837",
   "metadata": {},
   "outputs": [],
   "source": [
    "#13. Print unique values of a column in ascending order:"
   ]
  },
  {
   "cell_type": "code",
   "execution_count": 114,
   "id": "b1d9005d",
   "metadata": {},
   "outputs": [
    {
     "name": "stdout",
     "output_type": "stream",
     "text": [
      "[10, 20, 22, 27, 90]\n"
     ]
    }
   ],
   "source": [
    "print(sorted(data_frame['Age'].unique()))"
   ]
  },
  {
   "cell_type": "code",
   "execution_count": 115,
   "id": "c4cb1a8b",
   "metadata": {},
   "outputs": [],
   "source": [
    "#14. Print summary of a column by grouping the data"
   ]
  },
  {
   "cell_type": "code",
   "execution_count": 116,
   "id": "28e3ea3b",
   "metadata": {},
   "outputs": [
    {
     "name": "stdout",
     "output_type": "stream",
     "text": [
      "Name\n",
      "als      27.0\n",
      "as;sq    22.0\n",
      "athi     20.0\n",
      "qd;kj    90.0\n",
      "qwdjq    10.0\n",
      "Name: Age, dtype: float64\n"
     ]
    }
   ],
   "source": [
    "print(data_frame.groupby('Name')['Age'].mean())"
   ]
  },
  {
   "cell_type": "code",
   "execution_count": 117,
   "id": "c9b4f3f5",
   "metadata": {},
   "outputs": [],
   "source": [
    "#15. Print the number of groups created along with row count"
   ]
  },
  {
   "cell_type": "code",
   "execution_count": 118,
   "id": "12aed947",
   "metadata": {},
   "outputs": [
    {
     "name": "stdout",
     "output_type": "stream",
     "text": [
      "Age\n",
      "10    3\n",
      "20    3\n",
      "22    3\n",
      "27    3\n",
      "90    3\n",
      "dtype: int64\n"
     ]
    }
   ],
   "source": [
    "print(data_frame.groupby('Age').size())"
   ]
  },
  {
   "cell_type": "code",
   "execution_count": 119,
   "id": "6c4d8fb7",
   "metadata": {},
   "outputs": [],
   "source": [
    "#16. Print size of the group:"
   ]
  },
  {
   "cell_type": "code",
   "execution_count": 120,
   "id": "382acac1",
   "metadata": {},
   "outputs": [
    {
     "name": "stdout",
     "output_type": "stream",
     "text": [
      "Name\n",
      "als      3\n",
      "as;sq    3\n",
      "athi     3\n",
      "qd;kj    3\n",
      "qwdjq    3\n",
      "dtype: int64\n"
     ]
    }
   ],
   "source": [
    "print(data_frame.groupby('Name').size())"
   ]
  },
  {
   "cell_type": "code",
   "execution_count": 121,
   "id": "274afe21",
   "metadata": {},
   "outputs": [],
   "source": [
    "#17. Print particular group values:"
   ]
  },
  {
   "cell_type": "code",
   "execution_count": 122,
   "id": "bf04bcb0",
   "metadata": {},
   "outputs": [
    {
     "name": "stdout",
     "output_type": "stream",
     "text": [
      "    Name  Age\n",
      "0   athi   20\n",
      "5   athi   20\n",
      "10  athi   20\n"
     ]
    }
   ],
   "source": [
    "print(data_frame.groupby('Name').get_group('athi'))"
   ]
  },
  {
   "cell_type": "code",
   "execution_count": 123,
   "id": "6c169ea6",
   "metadata": {},
   "outputs": [],
   "source": [
    "#18. Print count, max and min values of a group"
   ]
  },
  {
   "cell_type": "code",
   "execution_count": 124,
   "id": "37586cd5",
   "metadata": {},
   "outputs": [
    {
     "name": "stdout",
     "output_type": "stream",
     "text": [
      "     Name              \n",
      "    count    max    min\n",
      "Age                    \n",
      "10      3  qwdjq  qwdjq\n",
      "20      3   athi   athi\n",
      "22      3  as;sq  as;sq\n",
      "27      3    als    als\n",
      "90      3  qd;kj  qd;kj\n"
     ]
    }
   ],
   "source": [
    "print(data_frame.groupby('Age').agg(['count','max','min']))"
   ]
  },
  {
   "cell_type": "code",
   "execution_count": 125,
   "id": "40a80c30",
   "metadata": {},
   "outputs": [],
   "source": [
    "##############################################################################"
   ]
  },
  {
   "cell_type": "code",
   "execution_count": 126,
   "id": "e7cde34b",
   "metadata": {},
   "outputs": [],
   "source": [
    "#Numpy Examples"
   ]
  },
  {
   "cell_type": "code",
   "execution_count": 127,
   "id": "6af0f83e",
   "metadata": {},
   "outputs": [],
   "source": [
    "#1. Create a 3x3 array"
   ]
  },
  {
   "cell_type": "code",
   "execution_count": 128,
   "id": "b88def6f",
   "metadata": {},
   "outputs": [
    {
     "name": "stdout",
     "output_type": "stream",
     "text": [
      "[[1 2 3]\n",
      " [4 5 6]\n",
      " [7 8 9]]\n"
     ]
    }
   ],
   "source": [
    "import numpy as np\n",
    "arr=np.array([[1,2,3],[4,5,6],[7,8,9]])\n",
    "print(arr)"
   ]
  },
  {
   "cell_type": "code",
   "execution_count": 129,
   "id": "39d04fe7",
   "metadata": {},
   "outputs": [],
   "source": [
    "#2. Print the dimension of the array"
   ]
  },
  {
   "cell_type": "code",
   "execution_count": 130,
   "id": "7c4abfa4",
   "metadata": {},
   "outputs": [
    {
     "name": "stdout",
     "output_type": "stream",
     "text": [
      "(3, 3)\n"
     ]
    }
   ],
   "source": [
    "print(arr.shape)"
   ]
  },
  {
   "cell_type": "code",
   "execution_count": 131,
   "id": "6a67f2b1",
   "metadata": {},
   "outputs": [],
   "source": [
    "#3. Create a 1D and 2D array of zeros"
   ]
  },
  {
   "cell_type": "code",
   "execution_count": 145,
   "id": "84258871",
   "metadata": {},
   "outputs": [
    {
     "name": "stdout",
     "output_type": "stream",
     "text": [
      "[0. 0. 0. 0. 0.]\n",
      "-------------------\n",
      "[[0. 0. 0. 0. 0.]\n",
      " [0. 0. 0. 0. 0.]\n",
      " [0. 0. 0. 0. 0.]\n",
      " [0. 0. 0. 0. 0.]\n",
      " [0. 0. 0. 0. 0.]]\n"
     ]
    }
   ],
   "source": [
    "arr1=np.zeros(5)\n",
    "arr2=np.zeros((5,5))\n",
    "print(arr1)\n",
    "print(\"-------------------\")\n",
    "print(arr2)"
   ]
  },
  {
   "cell_type": "code",
   "execution_count": 146,
   "id": "0a2b34bc",
   "metadata": {},
   "outputs": [],
   "source": [
    "#4. Create an identity matrix of 5x5"
   ]
  },
  {
   "cell_type": "code",
   "execution_count": 147,
   "id": "f423e8ad",
   "metadata": {},
   "outputs": [
    {
     "name": "stdout",
     "output_type": "stream",
     "text": [
      "[[1. 0. 0. 0. 0.]\n",
      " [0. 1. 0. 0. 0.]\n",
      " [0. 0. 1. 0. 0.]\n",
      " [0. 0. 0. 1. 0.]\n",
      " [0. 0. 0. 0. 1.]]\n"
     ]
    }
   ],
   "source": [
    "id_mat=np.eye(5)\n",
    "print(id_mat)"
   ]
  },
  {
   "cell_type": "code",
   "execution_count": 148,
   "id": "a0fd6832",
   "metadata": {},
   "outputs": [],
   "source": [
    "#5. Retrieve second row, first column value"
   ]
  },
  {
   "cell_type": "code",
   "execution_count": 153,
   "id": "3da02ce3",
   "metadata": {},
   "outputs": [
    {
     "name": "stdout",
     "output_type": "stream",
     "text": [
      "6\n"
     ]
    }
   ],
   "source": [
    "value= arr[1,2]\n",
    "print(value)"
   ]
  },
  {
   "cell_type": "code",
   "execution_count": 154,
   "id": "f6c97a8f",
   "metadata": {},
   "outputs": [],
   "source": [
    "#6. Print all column values of second row"
   ]
  },
  {
   "cell_type": "code",
   "execution_count": 156,
   "id": "3ca0048b",
   "metadata": {},
   "outputs": [
    {
     "name": "stdout",
     "output_type": "stream",
     "text": [
      "[4 5 6]\n"
     ]
    }
   ],
   "source": [
    "row2=arr[1,:]\n",
    "print(row2)"
   ]
  },
  {
   "cell_type": "code",
   "execution_count": 157,
   "id": "64736a31",
   "metadata": {},
   "outputs": [],
   "source": [
    "#7. Retrive all values from the second column"
   ]
  },
  {
   "cell_type": "code",
   "execution_count": 158,
   "id": "8eeda145",
   "metadata": {},
   "outputs": [
    {
     "name": "stdout",
     "output_type": "stream",
     "text": [
      "[2 5 8]\n"
     ]
    }
   ],
   "source": [
    "col2=arr[:,1]\n",
    "print(col2)"
   ]
  },
  {
   "cell_type": "code",
   "execution_count": 159,
   "id": "4c23252b",
   "metadata": {},
   "outputs": [],
   "source": [
    "#8. Retrive the last column in 3x3 matrix"
   ]
  },
  {
   "cell_type": "code",
   "execution_count": 160,
   "id": "2a7340eb",
   "metadata": {},
   "outputs": [
    {
     "name": "stdout",
     "output_type": "stream",
     "text": [
      "[3 6 9]\n"
     ]
    }
   ],
   "source": [
    "last_col=arr[:,-1]\n",
    "print(last_col)"
   ]
  },
  {
   "cell_type": "code",
   "execution_count": 161,
   "id": "4a622513",
   "metadata": {},
   "outputs": [],
   "source": [
    "#9. Retrive values from second and third row, all columns"
   ]
  },
  {
   "cell_type": "code",
   "execution_count": 162,
   "id": "5a31cccd",
   "metadata": {},
   "outputs": [
    {
     "name": "stdout",
     "output_type": "stream",
     "text": [
      "[[4 5 6]\n",
      " [7 8 9]]\n"
     ]
    }
   ],
   "source": [
    "row2_3=arr[1:3,:]\n",
    "print(row2_3)"
   ]
  },
  {
   "cell_type": "code",
   "execution_count": 163,
   "id": "a6edf36c",
   "metadata": {},
   "outputs": [],
   "source": [
    "#10. Create an array with numbers specified in a range"
   ]
  },
  {
   "cell_type": "code",
   "execution_count": 164,
   "id": "93e608a2",
   "metadata": {},
   "outputs": [
    {
     "name": "stdout",
     "output_type": "stream",
     "text": [
      "[0 2 4 6 8]\n"
     ]
    }
   ],
   "source": [
    "range_arr=np.arange(0,10,2)\n",
    "print(range_arr)"
   ]
  },
  {
   "cell_type": "code",
   "execution_count": 165,
   "id": "a973384c",
   "metadata": {},
   "outputs": [],
   "source": [
    "#11. Find the transpose of a matrix"
   ]
  },
  {
   "cell_type": "code",
   "execution_count": 167,
   "id": "8c89fb03",
   "metadata": {},
   "outputs": [
    {
     "name": "stdout",
     "output_type": "stream",
     "text": [
      "[[1 4 7]\n",
      " [2 5 8]\n",
      " [3 6 9]]\n"
     ]
    }
   ],
   "source": [
    "transpose_arr=arr.T\n",
    "print(transpose_arr)"
   ]
  },
  {
   "cell_type": "code",
   "execution_count": 168,
   "id": "061fcd53",
   "metadata": {},
   "outputs": [],
   "source": [
    "#12. Find the determinant of  a matrix"
   ]
  },
  {
   "cell_type": "code",
   "execution_count": 171,
   "id": "78163d85",
   "metadata": {},
   "outputs": [
    {
     "name": "stdout",
     "output_type": "stream",
     "text": [
      "0\n"
     ]
    }
   ],
   "source": [
    "determinent_value= np.linalg.det(arr)\n",
    "print(round(determinent_value))"
   ]
  },
  {
   "cell_type": "code",
   "execution_count": 172,
   "id": "b9f24540",
   "metadata": {},
   "outputs": [],
   "source": [
    "#13. Print diagonal element of a matrix"
   ]
  },
  {
   "cell_type": "code",
   "execution_count": 173,
   "id": "89370d85",
   "metadata": {},
   "outputs": [
    {
     "name": "stdout",
     "output_type": "stream",
     "text": [
      "[1 5 9]\n"
     ]
    }
   ],
   "source": [
    "diagonal=np.diagonal(arr)\n",
    "print(diagonal)"
   ]
  },
  {
   "cell_type": "code",
   "execution_count": 174,
   "id": "a4f0d29d",
   "metadata": {},
   "outputs": [],
   "source": [
    "#14. Basic matrix operations(example of addition)"
   ]
  },
  {
   "cell_type": "code",
   "execution_count": 176,
   "id": "0e020441",
   "metadata": {},
   "outputs": [
    {
     "name": "stdout",
     "output_type": "stream",
     "text": [
      "[[ 8 14]\n",
      " [18 36]]\n"
     ]
    }
   ],
   "source": [
    "x1=np.array([[1,2],[3,4]])\n",
    "x2=np.array([[8,7],[6,9]])\n",
    "result=x1*x2\n",
    "print(result)"
   ]
  },
  {
   "cell_type": "code",
   "execution_count": 177,
   "id": "98413513",
   "metadata": {},
   "outputs": [],
   "source": [
    "#15. Create an array with random integer values of size(3,5)"
   ]
  },
  {
   "cell_type": "code",
   "execution_count": 178,
   "id": "ffaa6246",
   "metadata": {},
   "outputs": [
    {
     "name": "stdout",
     "output_type": "stream",
     "text": [
      "[[5 1 9 9 6]\n",
      " [8 2 8 4 3]\n",
      " [0 5 5 3 9]]\n"
     ]
    }
   ],
   "source": [
    "rand_arr=np.random.randint(0,10,size=(3,5))\n",
    "print(rand_arr)"
   ]
  },
  {
   "cell_type": "code",
   "execution_count": 179,
   "id": "b860b2cf",
   "metadata": {},
   "outputs": [],
   "source": [
    "#16. Create a 1D array with 5 values of equal step size"
   ]
  },
  {
   "cell_type": "code",
   "execution_count": 185,
   "id": "beb06316",
   "metadata": {},
   "outputs": [
    {
     "name": "stdout",
     "output_type": "stream",
     "text": [
      "[ 0.   2.5  5.   7.5 10. ]\n"
     ]
    }
   ],
   "source": [
    "linear_arr=np.linspace(0,10,5)\n",
    "print(linear_arr)\n",
    "#Formula for equal step size: (stop-start)/(num-1) ....the x= x + step_val"
   ]
  },
  {
   "cell_type": "code",
   "execution_count": 186,
   "id": "caa0793d",
   "metadata": {},
   "outputs": [],
   "source": [
    "##############################################################################"
   ]
  },
  {
   "cell_type": "code",
   "execution_count": 187,
   "id": "8c2d4988",
   "metadata": {},
   "outputs": [],
   "source": [
    "#Matplotlib Subplots Example"
   ]
  },
  {
   "cell_type": "code",
   "execution_count": 188,
   "id": "9102657d",
   "metadata": {},
   "outputs": [],
   "source": [
    "#1. Create subplots with a line chat"
   ]
  },
  {
   "cell_type": "code",
   "execution_count": 196,
   "id": "2de1a3f7",
   "metadata": {},
   "outputs": [
    {
     "data": {
      "text/plain": [
       "Text(0.5, 0.98, 'SALES')"
      ]
     },
     "execution_count": 196,
     "metadata": {},
     "output_type": "execute_result"
    },
    {
     "data": {
      "image/png": "[encoded data removed]",
      "text/plain": [
       "<Figure size 900x300 with 2 Axes>"
      ]
     },
     "metadata": {},
     "output_type": "display_data"
    }
   ],
   "source": [
    "import matplotlib.pyplot as plt\n",
    "\n",
    "temperature = [20, 25, 30, 35, 40]\n",
    "icesales = [13, 21, 25, 35, 38]\n",
    "coffeesales = [45, 37, 28, 22, 18]\n",
    "\n",
    "fig, ax = plt.subplots(nrows=1, ncols=2, figsize=(9, 3))\n",
    "\n",
    "ax[0].set_title('a. Icecream Sales')\n",
    "ax[1].set_title('b. Coffee Sales')\n",
    "\n",
    "ax[0].plot(temperature, icesales, '-o', c='orange')\n",
    "ax[1].plot(temperature, coffeesales, '-*', c='red')\n",
    "\n",
    "ax[0].set_xlabel('Temperature')\n",
    "ax[0].set_ylabel('Ice Sales (litres)')\n",
    "ax[1].set_xlabel('Temperature')\n",
    "ax[1].set_ylabel('Coffee Sales (litres)')\n",
    "\n",
    "fig.suptitle('SALES')"
   ]
  },
  {
   "cell_type": "code",
   "execution_count": null,
   "id": "1d5373c9",
   "metadata": {},
   "outputs": [],
   "source": []
  }
 ],
 "metadata": {
  "kernelspec": {
   "display_name": "Python 3 (ipykernel)",
   "language": "python",
   "name": "python3"
  },
  "language_info": {
   "codemirror_mode": {
    "name": "ipython",
    "version": 3
   },
   "file_extension": ".py",
   "mimetype": "text/x-python",
   "name": "python",
   "nbconvert_exporter": "python",
   "pygments_lexer": "ipython3",
   "version": "3.11.5"
  }
 },
 "nbformat": 4,
 "nbformat_minor": 5
}
