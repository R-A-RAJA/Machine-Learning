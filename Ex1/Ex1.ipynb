{
 "cells": [
  {
   "cell_type": "code",
   "execution_count": 27,
   "id": "432379fe",
   "metadata": {},
   "outputs": [],
   "source": [
    "# 1.write a code to create a list that store names of employee"
   ]
  },
  {
   "cell_type": "code",
   "execution_count": 28,
   "id": "c80f1edd",
   "metadata": {},
   "outputs": [
    {
     "name": "stdout",
     "output_type": "stream",
     "text": [
      "['aaa', 'bbb', 'ccc', 'ddd', 'eee']\n"
     ]
    }
   ],
   "source": [
    "a=[\"aaa\",\"bbb\",\"ccc\",\"ddd\",\"eee\"]\n",
    "print(a)"
   ]
  },
  {
   "cell_type": "code",
   "execution_count": 29,
   "id": "32c070e1",
   "metadata": {},
   "outputs": [
    {
     "name": "stdout",
     "output_type": "stream",
     "text": [
      "5\n"
     ]
    }
   ],
   "source": [
    "print(len(a))"
   ]
  },
  {
   "cell_type": "code",
   "execution_count": 30,
   "id": "6a5803a1",
   "metadata": {},
   "outputs": [
    {
     "name": "stdout",
     "output_type": "stream",
     "text": [
      "aaa\n"
     ]
    }
   ],
   "source": [
    "print(a[0])"
   ]
  },
  {
   "cell_type": "code",
   "execution_count": 31,
   "id": "fa163d4c",
   "metadata": {},
   "outputs": [
    {
     "name": "stdout",
     "output_type": "stream",
     "text": [
      "eee\n"
     ]
    }
   ],
   "source": [
    "print(a[-1])"
   ]
  },
  {
   "cell_type": "code",
   "execution_count": 32,
   "id": "e4a4d21c",
   "metadata": {},
   "outputs": [],
   "source": [
    "# 2. Give an exaple list ,dictionary, tuple"
   ]
  },
  {
   "cell_type": "code",
   "execution_count": 33,
   "id": "ccb3ed46",
   "metadata": {},
   "outputs": [],
   "source": [
    "b=(\"aa\",\"bb\",\"cc\")"
   ]
  },
  {
   "cell_type": "code",
   "execution_count": 34,
   "id": "929a527b",
   "metadata": {},
   "outputs": [],
   "source": [
    "c={1:\"aa\",2:\"bb\"}"
   ]
  },
  {
   "cell_type": "code",
   "execution_count": 35,
   "id": "13fa765a",
   "metadata": {},
   "outputs": [
    {
     "ename": "TypeError",
     "evalue": "'tuple' object does not support item assignment",
     "output_type": "error",
     "traceback": [
      "\u001b[0;31m---------------------------------------------------------------------------\u001b[0m",
      "\u001b[0;31mTypeError\u001b[0m                                 Traceback (most recent call last)",
      "Cell \u001b[0;32mIn[35], line 1\u001b[0m\n\u001b[0;32m----> 1\u001b[0m \u001b[43mb\u001b[49m\u001b[43m[\u001b[49m\u001b[38;5;241;43m0\u001b[39;49m\u001b[43m]\u001b[49m\u001b[38;5;241m=\u001b[39m\u001b[38;5;124m\"\u001b[39m\u001b[38;5;124mdd\u001b[39m\u001b[38;5;124m\"\u001b[39m\n",
      "\u001b[0;31mTypeError\u001b[0m: 'tuple' object does not support item assignment"
     ]
    }
   ],
   "source": [
    "b[0]=\"dd\""
   ]
  },
  {
   "cell_type": "code",
   "execution_count": 12,
   "id": "afbf1b01",
   "metadata": {},
   "outputs": [
    {
     "name": "stdout",
     "output_type": "stream",
     "text": [
      "['bb', 'bbb', 'ccc', 'ddd', 'eee']\n"
     ]
    }
   ],
   "source": [
    "a[0]=\"bb\"\n",
    "print(a)"
   ]
  },
  {
   "cell_type": "code",
   "execution_count": 13,
   "id": "a8c3e821",
   "metadata": {
    "scrolled": true
   },
   "outputs": [
    {
     "name": "stdout",
     "output_type": "stream",
     "text": [
      "dict_values(['aa', 'bb'])\n"
     ]
    }
   ],
   "source": [
    "print(c.values())"
   ]
  },
  {
   "cell_type": "code",
   "execution_count": 14,
   "id": "eb3c40e1",
   "metadata": {},
   "outputs": [],
   "source": [
    "# 3. To accept a number and to identify wether a digit 9 is present or not if 9 print place and face value"
   ]
  },
  {
   "cell_type": "code",
   "execution_count": 1,
   "id": "87249635",
   "metadata": {},
   "outputs": [
    {
     "name": "stdout",
     "output_type": "stream",
     "text": [
      "9 present at index: 3, Face: 9, Place: 90\n"
     ]
    }
   ],
   "source": [
    "try:\n",
    "    d=int(input(\"Enter the number:\"))\n",
    "    d=str(d)\n",
    "    s=int(input(\"Enter the digit: \"))\n",
    "    s=str(s)\n",
    "    flag=0\n",
    "    for i in range(len(d)):\n",
    "        if d[i]==s:\n",
    "            print(s+\" present at index: \"+str(i)+\", Face: \"+s+\", Place: \"+s+str(\"0\"*(len(d)-i-1)))\n",
    "            flag=1\n",
    "    if flag==0:\n",
    "        print(s+\" not present\")\n",
    "except:\n",
    "    print(\"Error!\")"
   ]
  },
  {
   "cell_type": "code",
   "execution_count": 17,
   "id": "0264023b",
   "metadata": {},
   "outputs": [],
   "source": [
    "# 4. Various operator"
   ]
  },
  {
   "cell_type": "code",
   "execution_count": 18,
   "id": "8a1e8387",
   "metadata": {},
   "outputs": [
    {
     "name": "stdout",
     "output_type": "stream",
     "text": [
      "x= 10\n",
      "y= 20\n",
      "30\n",
      "10\n",
      "2.0\n",
      "0\n",
      "2\n",
      "200\n"
     ]
    }
   ],
   "source": [
    "x=10\n",
    "y=20\n",
    "print(\"x= \"+str(x))\n",
    "print(\"y= \"+str(y))\n",
    "print(x+y)\n",
    "print(y-x)\n",
    "print(y/x)\n",
    "print(y%x)\n",
    "print(y//x)\n",
    "print(y*x)\n"
   ]
  },
  {
   "cell_type": "code",
   "execution_count": 21,
   "id": "ba7963f3",
   "metadata": {},
   "outputs": [],
   "source": [
    "# 5. python program that prints the no.of ways a robot can take steps to climb the stires case(fibinacci seres based) use function in probram "
   ]
  },
  {
   "cell_type": "code",
   "execution_count": 26,
   "id": "adc280b6",
   "metadata": {},
   "outputs": [
    {
     "name": "stdout",
     "output_type": "stream",
     "text": [
      "The robot can climb 5 stairs in 8 different ways.\n"
     ]
    }
   ],
   "source": [
    "def count_ways(n):\n",
    "    if n == 0:\n",
    "        return 0\n",
    "    elif n == 1:\n",
    "        return 1\n",
    "    elif n == 2:\n",
    "        return 2\n",
    "    a, b = 1, 2\n",
    "    for _ in range(3, n + 1):\n",
    "        a, b = b, a + b\n",
    "    return b\n",
    "\n",
    "stairs = int(input(\"Enter the number of stairs: \"))\n",
    "print(\"The robot can climb \" + str(stairs) + \" stairs in \" + str(count_ways(stairs)) + \" different ways.\")"
   ]
  },
  {
   "cell_type": "code",
   "execution_count": 69,
   "id": "1c581ec7",
   "metadata": {},
   "outputs": [],
   "source": [
    "# 6. Create multidimonstional list and display it"
   ]
  },
  {
   "cell_type": "code",
   "execution_count": 70,
   "id": "2c1af516",
   "metadata": {},
   "outputs": [
    {
     "name": "stdout",
     "output_type": "stream",
     "text": [
      "2\n",
      "3\n",
      "4\n",
      "3\n",
      "6\n",
      "7\n",
      "3\n",
      "7\n",
      "8\n"
     ]
    }
   ],
   "source": [
    "li=[[2,3,4],[3,6,7],[3,7,8]]\n",
    "for i in range(len(li)):\n",
    "    for j in range(len(li[0])):\n",
    "        print(li[i][j])\n",
    "    "
   ]
  },
  {
   "cell_type": "code",
   "execution_count": 2,
   "id": "1e876e07",
   "metadata": {},
   "outputs": [],
   "source": [
    "#7. Patter generation"
   ]
  },
  {
   "cell_type": "code",
   "execution_count": 9,
   "id": "db1a04bb",
   "metadata": {},
   "outputs": [
    {
     "name": "stdout",
     "output_type": "stream",
     "text": [
      "********\n",
      " ******\n",
      "  ****\n",
      "   **\n",
      "    *\n",
      " ** \n",
      "******\n",
      " ** \n",
      "******\n",
      " ** \n"
     ]
    }
   ],
   "source": [
    "num = int(input(\"Enter the number of rows for the first pattern: \"))\n",
    "for i in range(num, 0, -1):\n",
    "    for j in range(num - i):\n",
    "        print(\" \", end=\"\")\n",
    "    if i == 1:\n",
    "        print(\"*\")\n",
    "        break\n",
    "    for k in range(2 * i - 2):\n",
    "        print(\"*\", end=\"\")\n",
    "    print()\n",
    "\n",
    "num = int(input(\"Enter the number of rows for the second pattern: \"))\n",
    "for i in range(1, num + 1):\n",
    "    if i % 2 != 0:\n",
    "        print(\" ** \")\n",
    "    else:\n",
    "        print(\"******\")"
   ]
  }
 ],
 "metadata": {
  "kernelspec": {
   "display_name": "Python 3",
   "language": "python",
   "name": "python3"
  },
  "language_info": {
   "codemirror_mode": {
    "name": "ipython",
    "version": 3
   },
   "file_extension": ".py",
   "mimetype": "text/x-python",
   "name": "python",
   "nbconvert_exporter": "python",
   "pygments_lexer": "ipython3",
   "version": "3.13.1"
  }
 },
 "nbformat": 4,
 "nbformat_minor": 5
}
