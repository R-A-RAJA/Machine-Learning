{
  "cells": [
    {
      "cell_type": "code",
      "execution_count": 8,
      "id": "c8dd1b06",
      "metadata": {
        "id": "c8dd1b06"
      },
      "outputs": [],
      "source": [
        "#Name: Athithraja R\n",
        "#Reg.no: 2022503702"
      ]
    },
    {
      "cell_type": "code",
      "source": [
        "#McCulloch-Pitts Neural Network"
      ],
      "metadata": {
        "id": "sL5EYUZM9tK7"
      },
      "id": "sL5EYUZM9tK7",
      "execution_count": 9,
      "outputs": []
    },
    {
      "cell_type": "code",
      "source": [
        "def convert_0(x):\n",
        "    for i in range(len(x)):\n",
        "        if x[i]==0:\n",
        "            x[i]=-1\n",
        "    return(x)\n",
        "#Gate Inputs and Output\n",
        "x1=[0,0,1,1]\n",
        "x2=[0,1,0,1]\n",
        "y=[1,1,1,0]\n",
        "\n",
        "#And [0,0,0,1]\n",
        "#OR [0,1,1,1]\n",
        "#Nand [1,1,1,0]\n",
        "#Nor [1,0,0,0]\n",
        "\n",
        "print(\"x1: \"+str(x1))\n",
        "print(\"x2: \"+str(x2))\n",
        "print(\"y: \"+str(y))\n",
        "\n",
        "#convert 0 to -1\n",
        "x1=convert_0(x1)\n",
        "x2=convert_0(x2)\n",
        "y=convert_0(y)\n",
        "\n",
        "#weights\n",
        "w1=-2\n",
        "w2=-2\n",
        "wb=0\n",
        "\n",
        "# for AND gate w= 2, 2, 0\n",
        "# for OR gate w= 2, 2, 0\n",
        "# for NAND gate w= -2, -2, 0\n",
        "# for NOR gate w= -2, -2, 0\n",
        "\n",
        "#b values\n",
        "b=[1,1,1,1]\n",
        "\n",
        "th=-1\n",
        "# for AND gate th=0\n",
        "# for OR gate th=-1\n",
        "# for NAND gate th=-1\n",
        "# for NOR gate th=0\n",
        "\n",
        "yout=[] #initialize yout..\n",
        "\n",
        "#f(x)\n",
        "for i in range(4):\n",
        "    fx= (x1[i]*w1)+(x2[i]*w2)+(b[i]*wb)\n",
        "    print(fx)\n",
        "    if fx>th:\n",
        "        yout.append(1)\n",
        "    else:\n",
        "        yout.append(0)\n",
        "\n",
        "print(\"yout: \"+str(yout))\n"
      ],
      "metadata": {
        "colab": {
          "base_uri": "https://localhost:8080/"
        },
        "id": "rcQUF93q9ohH",
        "outputId": "c2e8573d-d3dc-4ba5-9c2b-d8fa6a50c5a2"
      },
      "id": "rcQUF93q9ohH",
      "execution_count": 36,
      "outputs": [
        {
          "output_type": "stream",
          "name": "stdout",
          "text": [
            "x1: [0, 0, 1, 1]\n",
            "x2: [0, 1, 0, 1]\n",
            "y: [1, 1, 1, 0]\n",
            "4\n",
            "0\n",
            "0\n",
            "-4\n",
            "yout: [1, 1, 1, 0]\n"
          ]
        }
      ]
    },
    {
      "cell_type": "code",
      "source": [
        "#Hebbnet"
      ],
      "metadata": {
        "id": "G_VxEC5a9qW4"
      },
      "id": "G_VxEC5a9qW4",
      "execution_count": null,
      "outputs": []
    },
    {
      "cell_type": "code",
      "execution_count": 34,
      "id": "0cd33025",
      "metadata": {
        "id": "0cd33025",
        "outputId": "95ee8173-3a45-4b48-aa39-01d44a93986e",
        "colab": {
          "base_uri": "https://localhost:8080/"
        }
      },
      "outputs": [
        {
          "output_type": "stream",
          "name": "stdout",
          "text": [
            "x1: [0, 0, 1, 1]\n",
            "x2: [0, 1, 0, 1]\n",
            "y: [1, 0, 0, 0]\n",
            "w1= -2\n",
            "w2= -2\n",
            "wb= 0\n",
            "4\n",
            "0\n",
            "0\n",
            "-4\n",
            "yout: [1, 0, 0, 0]\n"
          ]
        }
      ],
      "source": [
        "#this function used to convert 0 to -1\n",
        "def convert_0(x):\n",
        "    for i in range(len(x)):\n",
        "        if x[i]==0:\n",
        "            x[i]=-1\n",
        "    return(x)\n",
        "\n",
        "def modify_w(w,x,y):\n",
        "    return(w+(x*y))\n",
        "\n",
        "#Gate Inputs and Output\n",
        "x1=[0,0,1,1]\n",
        "x2=[0,1,0,1]\n",
        "y=[1,0,0,0]\n",
        "\n",
        "#And [0,0,0,1]\n",
        "#OR [0,1,1,1]\n",
        "#Nand [1,1,1,0]\n",
        "#Nor [1,0,0,0]\n",
        "\n",
        "print(\"x1: \"+str(x1))\n",
        "print(\"x2: \"+str(x2))\n",
        "print(\"y: \"+str(y))\n",
        "\n",
        "#convert 0 to -1\n",
        "x1=convert_0(x1)\n",
        "x2=convert_0(x2)\n",
        "y=convert_0(y)\n",
        "\n",
        "#initial weights\n",
        "w1=0\n",
        "w2=0\n",
        "wb=0\n",
        "\n",
        "#b values\n",
        "b=[1,1,1,1]\n",
        "\n",
        "for i in range(4):\n",
        "    x=x1[i]\n",
        "    yi=y[i]\n",
        "    w1=modify_w(w1,x,yi)\n",
        "\n",
        "    x=x2[i]\n",
        "    w2=modify_w(w2,x,yi)\n",
        "\n",
        "    bi=b[i]\n",
        "    wb=modify_w(wb,bi,wb)\n",
        "\n",
        "print(\"w1= \"+str(w1))\n",
        "print(\"w2= \"+str(w2))\n",
        "print(\"wb= \"+str(wb))\n",
        "\n",
        "th=0 #throushhold\n",
        "\n",
        "# for AND gate th=0\n",
        "# for OR gate th=-1\n",
        "# for NAND gate th=-1\n",
        "# for NOR gate th=0\n",
        "\n",
        "\n",
        "yout=[] #initialize yout..\n",
        "\n",
        "#f(x)\n",
        "for i in range(4):\n",
        "    fx= (x1[i]*w1)+(x2[i]*w2)+(b[i]*wb)\n",
        "    print(fx)\n",
        "    if fx>th:\n",
        "        yout.append(1)\n",
        "    else:\n",
        "        yout.append(0)\n",
        "\n",
        "print(\"yout: \"+str(yout))\n"
      ]
    },
    {
      "cell_type": "code",
      "execution_count": null,
      "id": "c65e5107",
      "metadata": {
        "id": "c65e5107"
      },
      "outputs": [],
      "source": [
        "#Single Layer Peceptron"
      ]
    },
    {
      "cell_type": "code",
      "execution_count": 6,
      "id": "0c301a09",
      "metadata": {
        "colab": {
          "base_uri": "https://localhost:8080/"
        },
        "id": "0c301a09",
        "outputId": "bab0c045-640f-429b-9927-8ac6ea79e179"
      },
      "outputs": [
        {
          "output_type": "stream",
          "name": "stdout",
          "text": [
            "x1: [0, 0, 1, 1]\n",
            "x2: [0, 1, 0, 1]\n",
            "y: [0, 0, 0, 1]\n",
            "\n",
            "Before:\n",
            "w1= 0.2\n",
            "w2= 0.3\n",
            "wb= -0.5\n",
            "\n",
            "\n",
            "False\n",
            "False\n",
            "False\n",
            "False\n",
            "True\n",
            "\n",
            "After:\n",
            "w1= 1.5999999999999999\n",
            "w2= 0.8999999999999999\n",
            "wb= -1.9\n",
            "yout: [0, 0, 0, 1]\n"
          ]
        }
      ],
      "source": [
        "def modify_w(w,x,error,l):\n",
        "    return(w+l*error*x)\n",
        "\n",
        "#Gate Inputs and Output\n",
        "x1=[0,0,1,1]\n",
        "x2=[0,1,0,1]\n",
        "y=[0,0,0,1]\n",
        "\n",
        "#And [0,0,0,1]\n",
        "#OR [0,1,1,1]\n",
        "#Nand [1,1,1,0]\n",
        "#Nor [1,0,0,0]\n",
        "\n",
        "print(\"x1: \"+str(x1))\n",
        "print(\"x2: \"+str(x2))\n",
        "print(\"y: \"+str(y))\n",
        "\n",
        "#Learning rate\n",
        "l=0.7\n",
        "\n",
        "#initial weights\n",
        "w1=0.2\n",
        "w2=0.3\n",
        "wb=-0.5\n",
        "print(\"\\nBefore:\")\n",
        "print(\"w1= \"+str(w1))\n",
        "print(\"w2= \"+str(w2))\n",
        "print(\"wb= \"+str(wb))\n",
        "print(\"\\n\")\n",
        "\n",
        "#b values\n",
        "b=[1,1,1,1]\n",
        "\n",
        "th=0 #throushhold\n",
        "\n",
        "# for AND gate th=0\n",
        "# for OR gate th=-1\n",
        "# for NAND gate th=-1\n",
        "# for NOR gate th=0\n",
        "\n",
        "epoc=10\n",
        "\n",
        "for i in range(epoc):\n",
        "    yout=[]\n",
        "    for i in range(4):\n",
        "        fx= (x1[i]*w1)+(x2[i]*w2)+(b[i]*wb)\n",
        "        if fx>th:\n",
        "            yout.append(1)\n",
        "            error=y[i]-1\n",
        "        else:\n",
        "            yout.append(0)\n",
        "            error=y[i]\n",
        "\n",
        "        if (error!=0):\n",
        "            w1=modify_w(w1,x1[i],error,l)\n",
        "            w2=modify_w(w1,x2[i],error,l)\n",
        "            wb=modify_w(wb,b[i],error,l)\n",
        "\n",
        "    #testing\n",
        "    ytest=[]\n",
        "    for i in range(4):\n",
        "        fx= (x1[i]*w1)+(x2[i]*w2)+(b[i]*wb)\n",
        "        if fx>th:\n",
        "            ytest.append(1)\n",
        "        else:\n",
        "            ytest.append(0)\n",
        "\n",
        "    if (ytest==yout):\n",
        "      print(ytest==yout)\n",
        "      break\n",
        "    else:\n",
        "      print(ytest==yout)\n",
        "\n",
        "print(\"\\nAfter:\")\n",
        "print(\"w1= \"+str(w1))\n",
        "print(\"w2= \"+str(w2))\n",
        "print(\"wb= \"+str(wb))\n",
        "\n",
        "print(\"yout: \"+str(yout))\n"
      ]
    },
    {
      "cell_type": "code",
      "execution_count": null,
      "id": "19ede794",
      "metadata": {
        "id": "19ede794"
      },
      "outputs": [],
      "source": []
    }
  ],
  "metadata": {
    "kernelspec": {
      "display_name": "Python 3 (ipykernel)",
      "language": "python",
      "name": "python3"
    },
    "language_info": {
      "codemirror_mode": {
        "name": "ipython",
        "version": 3
      },
      "file_extension": ".py",
      "mimetype": "text/x-python",
      "name": "python",
      "nbconvert_exporter": "python",
      "pygments_lexer": "ipython3",
      "version": "3.11.5"
    },
    "colab": {
      "provenance": []
    }
  },
  "nbformat": 4,
  "nbformat_minor": 5
}